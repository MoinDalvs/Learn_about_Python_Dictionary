{
 "cells": [
  {
   "cell_type": "markdown",
   "id": "85fce771",
   "metadata": {},
   "source": [
    "# Creating a <b><p style=\"color:green;font-size:30px\"><b>Dictionary</b></p>"
   ]
  },
  {
   "cell_type": "markdown",
   "id": "665c4eb5",
   "metadata": {},
   "source": [
    "### <p style=\"color:red;font-size:25px;\">In Dictionary</p> <b>Keys</b> has to be <u>Immutable values</u> such as tuple,string and numeric as well and \n",
    "### <b>Values</b> can be <u>Anything</u> Mutable or Immutable"
   ]
  },
  {
   "cell_type": "markdown",
   "id": "7e44448d",
   "metadata": {},
   "source": [
    "### a. Using Literals"
   ]
  },
  {
   "cell_type": "code",
   "execution_count": 2,
   "id": "dc7f9b76",
   "metadata": {},
   "outputs": [
    {
     "data": {
      "text/plain": [
       "{'Name': 'Tom', 'Age': 25, 'Marks': 78}"
      ]
     },
     "execution_count": 2,
     "metadata": {},
     "output_type": "execute_result"
    }
   ],
   "source": [
    "d = {'Name':'Tom',\n",
    "    'Age':25,\n",
    "    'Marks':78}\n",
    "d"
   ]
  },
  {
   "cell_type": "code",
   "execution_count": 18,
   "id": "00425bbd",
   "metadata": {},
   "outputs": [
    {
     "data": {
      "text/plain": [
       "dict"
      ]
     },
     "execution_count": 18,
     "metadata": {},
     "output_type": "execute_result"
    }
   ],
   "source": [
    "type(d)"
   ]
  },
  {
   "cell_type": "code",
   "execution_count": 9,
   "id": "260cb0d0",
   "metadata": {},
   "outputs": [
    {
     "name": "stdout",
     "output_type": "stream",
     "text": [
      "Tom is 25 Years old\n"
     ]
    }
   ],
   "source": [
    "print(d['Name'], \"is\",d['Age'],\"Years old\")"
   ]
  },
  {
   "cell_type": "markdown",
   "id": "f2b3e8ad",
   "metadata": {},
   "source": [
    "### b.Using Zip"
   ]
  },
  {
   "cell_type": "code",
   "execution_count": 10,
   "id": "4832c7e3",
   "metadata": {},
   "outputs": [],
   "source": [
    "keys = ['a','b','c','d','e','f']\n",
    "values = (0,1,2,3,4,5,6)"
   ]
  },
  {
   "cell_type": "code",
   "execution_count": 11,
   "id": "78f0f595",
   "metadata": {},
   "outputs": [
    {
     "name": "stdout",
     "output_type": "stream",
     "text": [
      "('a', 0)\n",
      "('b', 1)\n",
      "('c', 2)\n",
      "('d', 3)\n",
      "('e', 4)\n",
      "('f', 5)\n"
     ]
    }
   ],
   "source": [
    "for Zip in zip(keys,values):\n",
    "    print(Zip)"
   ]
  },
  {
   "cell_type": "code",
   "execution_count": 12,
   "id": "be661ae1",
   "metadata": {},
   "outputs": [
    {
     "data": {
      "text/plain": [
       "{'a': 0, 'b': 1, 'c': 2, 'd': 3, 'e': 4, 'f': 5}"
      ]
     },
     "execution_count": 12,
     "metadata": {},
     "output_type": "execute_result"
    }
   ],
   "source": [
    "Dict = dict(zip(keys,values))\n",
    "Dict"
   ]
  },
  {
   "cell_type": "code",
   "execution_count": 17,
   "id": "4c8aa791",
   "metadata": {},
   "outputs": [
    {
     "data": {
      "text/plain": [
       "{'a': 1, 'b': 2, 'c': 3, 'd': 4, 'e': 5}"
      ]
     },
     "execution_count": 17,
     "metadata": {},
     "output_type": "execute_result"
    }
   ],
   "source": [
    "Example = dict(zip(keys,range(1,6)))\n",
    "Example"
   ]
  },
  {
   "cell_type": "code",
   "execution_count": 1,
   "id": "11e6d625",
   "metadata": {},
   "outputs": [
    {
     "data": {
      "text/plain": [
       "dict"
      ]
     },
     "execution_count": 1,
     "metadata": {},
     "output_type": "execute_result"
    }
   ],
   "source": [
    "Dict_exp = {}\n",
    "type(Dict_exp)"
   ]
  },
  {
   "cell_type": "code",
   "execution_count": 5,
   "id": "acb2757d",
   "metadata": {},
   "outputs": [],
   "source": [
    "k = ('Ram','Shiva','Vishwa','Mohan')\n",
    "v = (78,56,35,63,)\n",
    "zip(k,v)\n"
   ]
  },
  {
   "cell_type": "markdown",
   "id": "f4150da3",
   "metadata": {},
   "source": [
    "### c.Using fromkeys"
   ]
  },
  {
   "cell_type": "code",
   "execution_count": 2,
   "id": "f40f0caf",
   "metadata": {},
   "outputs": [
    {
     "data": {
      "text/plain": [
       "{10: None, 20: None, 30: None, 40: None}"
      ]
     },
     "execution_count": 2,
     "metadata": {},
     "output_type": "execute_result"
    }
   ],
   "source": [
    "dfk = dict.fromkeys((10,20,30,40))\n",
    "dfk"
   ]
  },
  {
   "cell_type": "code",
   "execution_count": 5,
   "id": "01a567ec",
   "metadata": {},
   "outputs": [
    {
     "data": {
      "text/plain": [
       "{10: 0, 20: 0, 30: 0, 40: 0}"
      ]
     },
     "execution_count": 5,
     "metadata": {},
     "output_type": "execute_result"
    }
   ],
   "source": [
    "dfk_example = dict.fromkeys((10,20,30,40),0)\n",
    "dfk_example"
   ]
  },
  {
   "cell_type": "code",
   "execution_count": 7,
   "id": "024a5599",
   "metadata": {},
   "outputs": [
    {
     "data": {
      "text/plain": [
       "{'A': 'NULL', 'B': 'NULL', 'C': 'NULL'}"
      ]
     },
     "execution_count": 7,
     "metadata": {},
     "output_type": "execute_result"
    }
   ],
   "source": [
    "dfk_exp1 = dict.fromkeys('ABC','NULL')\n",
    "dfk_exp1"
   ]
  },
  {
   "cell_type": "code",
   "execution_count": 9,
   "id": "a364f3ed",
   "metadata": {},
   "outputs": [
    {
     "data": {
      "text/plain": [
       "{'Ram': 'Hera Pheri', 'Shyam': 'Hera Pheri', 'Baburao': 'Hera Pheri'}"
      ]
     },
     "execution_count": 9,
     "metadata": {},
     "output_type": "execute_result"
    }
   ],
   "source": [
    "dfk_string_example = dict.fromkeys(('Ram','Shyam','Baburao'),'Hera Pheri')\n",
    "dfk_string_example"
   ]
  },
  {
   "cell_type": "markdown",
   "id": "8f5743f1",
   "metadata": {},
   "source": [
    "### Accessing Elements"
   ]
  },
  {
   "cell_type": "code",
   "execution_count": 2,
   "id": "89e9b7ac",
   "metadata": {},
   "outputs": [],
   "source": [
    "states = ('Kerala','Tamil Nadu','Telangana','Karnataka','Maharashtra')\n",
    "cities = ('Trinandrum','Chennai','Hyderabad','Bangalore','Mumbai')"
   ]
  },
  {
   "cell_type": "code",
   "execution_count": 3,
   "id": "18f4c777",
   "metadata": {},
   "outputs": [
    {
     "data": {
      "text/plain": [
       "{'Kerala': 'Trinandrum',\n",
       " 'Tamil Nadu': 'Chennai',\n",
       " 'Telangana': 'Hyderabad',\n",
       " 'Karnataka': 'Bangalore',\n",
       " 'Maharashtra': 'Mumbai'}"
      ]
     },
     "execution_count": 3,
     "metadata": {},
     "output_type": "execute_result"
    }
   ],
   "source": [
    "dict_states_with_cities = {k:v for k,v in zip(states,cities)}\n",
    "dict_states_with_cities"
   ]
  },
  {
   "cell_type": "code",
   "execution_count": 7,
   "id": "f8c4185a",
   "metadata": {},
   "outputs": [
    {
     "data": {
      "text/plain": [
       "'Bangalore'"
      ]
     },
     "execution_count": 7,
     "metadata": {},
     "output_type": "execute_result"
    }
   ],
   "source": [
    "dict_states_with_cities['Karnataka']"
   ]
  },
  {
   "cell_type": "code",
   "execution_count": 13,
   "id": "54e35460",
   "metadata": {},
   "outputs": [
    {
     "ename": "KeyError",
     "evalue": "'AP'",
     "output_type": "error",
     "traceback": [
      "\u001b[1;31m---------------------------------------------------------------------------\u001b[0m",
      "\u001b[1;31mKeyError\u001b[0m                                  Traceback (most recent call last)",
      "\u001b[1;32mC:\\Users\\MOINDA~1\\AppData\\Local\\Temp/ipykernel_6136/1989381477.py\u001b[0m in \u001b[0;36m<module>\u001b[1;34m\u001b[0m\n\u001b[1;32m----> 1\u001b[1;33m \u001b[0mdict_states_with_cities\u001b[0m\u001b[1;33m[\u001b[0m\u001b[1;34m'AP'\u001b[0m\u001b[1;33m]\u001b[0m\u001b[1;33m\u001b[0m\u001b[1;33m\u001b[0m\u001b[0m\n\u001b[0m",
      "\u001b[1;31mKeyError\u001b[0m: 'AP'"
     ]
    }
   ],
   "source": [
    "dict_states_with_cities['AP']"
   ]
  },
  {
   "cell_type": "code",
   "execution_count": 10,
   "id": "21fd0d8e",
   "metadata": {},
   "outputs": [
    {
     "data": {
      "text/plain": [
       "'Trinandrum'"
      ]
     },
     "execution_count": 10,
     "metadata": {},
     "output_type": "execute_result"
    }
   ],
   "source": [
    "dict_states_with_cities.get('Kerala')"
   ]
  },
  {
   "cell_type": "code",
   "execution_count": 11,
   "id": "7b05cd36",
   "metadata": {},
   "outputs": [],
   "source": [
    "dict_states_with_cities.get('AP')"
   ]
  },
  {
   "cell_type": "code",
   "execution_count": 16,
   "id": "d15f3597",
   "metadata": {},
   "outputs": [
    {
     "data": {
      "text/plain": [
       "'Not Found'"
      ]
     },
     "execution_count": 16,
     "metadata": {},
     "output_type": "execute_result"
    }
   ],
   "source": [
    "dict_states_with_cities.get('AP','Not Found')"
   ]
  },
  {
   "cell_type": "code",
   "execution_count": 17,
   "id": "5ab60b46",
   "metadata": {},
   "outputs": [
    {
     "data": {
      "text/plain": [
       "('Mumbai', 'Not Found')"
      ]
     },
     "execution_count": 17,
     "metadata": {},
     "output_type": "execute_result"
    }
   ],
   "source": [
    "dict_states_with_cities.get('Maharashtra','Not Found'), dict_states_with_cities.get('Madhya Pradesh','Not Found')"
   ]
  },
  {
   "cell_type": "code",
   "execution_count": 19,
   "id": "fdd6208e",
   "metadata": {},
   "outputs": [
    {
     "name": "stdout",
     "output_type": "stream",
     "text": [
      "Not Found\n"
     ]
    }
   ],
   "source": [
    "if dict_states_with_cities.get('Himachal Pradesh') == None:\n",
    "    print('Not Found')"
   ]
  },
  {
   "cell_type": "markdown",
   "id": "04b6ccd4",
   "metadata": {},
   "source": [
    "# Common Operations"
   ]
  },
  {
   "cell_type": "code",
   "execution_count": 4,
   "id": "c8ac8165",
   "metadata": {},
   "outputs": [
    {
     "data": {
      "text/plain": [
       "5"
      ]
     },
     "execution_count": 4,
     "metadata": {},
     "output_type": "execute_result"
    }
   ],
   "source": [
    "#length\n",
    "len(dict_states_with_cities)"
   ]
  },
  {
   "cell_type": "code",
   "execution_count": 6,
   "id": "c6c895af",
   "metadata": {},
   "outputs": [
    {
     "data": {
      "text/plain": [
       "True"
      ]
     },
     "execution_count": 6,
     "metadata": {},
     "output_type": "execute_result"
    }
   ],
   "source": [
    "'Kerala' in dict_states_with_cities"
   ]
  },
  {
   "cell_type": "code",
   "execution_count": 7,
   "id": "19457b8c",
   "metadata": {},
   "outputs": [
    {
     "data": {
      "text/plain": [
       "(False, True)"
      ]
     },
     "execution_count": 7,
     "metadata": {},
     "output_type": "execute_result"
    }
   ],
   "source": [
    "'Karnataka' not in dict_states_with_cities, \"Madhya Pradesh\" not in dict_states_with_cities"
   ]
  },
  {
   "cell_type": "markdown",
   "id": "b1cb8805",
   "metadata": {},
   "source": [
    "# <p style='color:red'>Remove</p> elements"
   ]
  },
  {
   "cell_type": "code",
   "execution_count": 31,
   "id": "a9cc1cb9",
   "metadata": {},
   "outputs": [],
   "source": [
    "dfk = dict.fromkeys((10,20,30,40,50,60,70,80,90,100),'NULL')"
   ]
  },
  {
   "cell_type": "code",
   "execution_count": 32,
   "id": "d36b8312",
   "metadata": {},
   "outputs": [
    {
     "data": {
      "text/plain": [
       "{10: 'NULL',\n",
       " 20: 'NULL',\n",
       " 30: 'NULL',\n",
       " 40: 'NULL',\n",
       " 50: 'NULL',\n",
       " 60: 'NULL',\n",
       " 70: 'NULL',\n",
       " 80: 'NULL',\n",
       " 90: 'NULL',\n",
       " 100: 'NULL'}"
      ]
     },
     "execution_count": 32,
     "metadata": {},
     "output_type": "execute_result"
    }
   ],
   "source": [
    "dfk"
   ]
  },
  {
   "cell_type": "code",
   "execution_count": 36,
   "id": "39bf8272",
   "metadata": {},
   "outputs": [],
   "source": [
    "del dfk[60]"
   ]
  },
  {
   "cell_type": "code",
   "execution_count": 37,
   "id": "82f0a892",
   "metadata": {},
   "outputs": [
    {
     "data": {
      "text/plain": [
       "{10: 'NULL',\n",
       " 20: 'NULL',\n",
       " 30: 'NULL',\n",
       " 40: 'NULL',\n",
       " 50: 'NULL',\n",
       " 70: 'NULL',\n",
       " 80: 'NULL',\n",
       " 90: 'NULL',\n",
       " 100: 'NULL'}"
      ]
     },
     "execution_count": 37,
     "metadata": {},
     "output_type": "execute_result"
    }
   ],
   "source": [
    "dfk"
   ]
  },
  {
   "cell_type": "code",
   "execution_count": 25,
   "id": "60a2a771",
   "metadata": {},
   "outputs": [
    {
     "data": {
      "text/plain": [
       "'NULL'"
      ]
     },
     "execution_count": 25,
     "metadata": {},
     "output_type": "execute_result"
    }
   ],
   "source": [
    "dfk.pop(70)"
   ]
  },
  {
   "cell_type": "code",
   "execution_count": 26,
   "id": "b7dbeac3",
   "metadata": {},
   "outputs": [
    {
     "data": {
      "text/plain": [
       "{10: 'NULL',\n",
       " 20: 'NULL',\n",
       " 30: 'NULL',\n",
       " 40: 'NULL',\n",
       " 50: 'NULL',\n",
       " 60: 'NULL',\n",
       " 80: 'NULL',\n",
       " 90: 'NULL',\n",
       " 100: 'NULL'}"
      ]
     },
     "execution_count": 26,
     "metadata": {},
     "output_type": "execute_result"
    }
   ],
   "source": [
    "dfk"
   ]
  },
  {
   "cell_type": "code",
   "execution_count": 27,
   "id": "0377ac53",
   "metadata": {},
   "outputs": [
    {
     "data": {
      "text/plain": [
       "'Not Found'"
      ]
     },
     "execution_count": 27,
     "metadata": {},
     "output_type": "execute_result"
    }
   ],
   "source": [
    "dfk.pop(110,'Not Found')"
   ]
  },
  {
   "cell_type": "code",
   "execution_count": 28,
   "id": "54670f44",
   "metadata": {},
   "outputs": [
    {
     "data": {
      "text/plain": [
       "(100, 'NULL')"
      ]
     },
     "execution_count": 28,
     "metadata": {},
     "output_type": "execute_result"
    }
   ],
   "source": [
    "dfk.popitem()"
   ]
  },
  {
   "cell_type": "code",
   "execution_count": 29,
   "id": "5dda7100",
   "metadata": {},
   "outputs": [],
   "source": [
    "dfk.clear()"
   ]
  },
  {
   "cell_type": "code",
   "execution_count": 30,
   "id": "03498a50",
   "metadata": {},
   "outputs": [
    {
     "data": {
      "text/plain": [
       "{}"
      ]
     },
     "execution_count": 30,
     "metadata": {},
     "output_type": "execute_result"
    }
   ],
   "source": [
    "dfk"
   ]
  },
  {
   "cell_type": "code",
   "execution_count": null,
   "id": "01d09a3a",
   "metadata": {},
   "outputs": [],
   "source": []
  },
  {
   "cell_type": "markdown",
   "id": "ad543260",
   "metadata": {},
   "source": [
    "# <p style='color:red'>Update</p> Elements"
   ]
  },
  {
   "cell_type": "code",
   "execution_count": 33,
   "id": "ef71cd09",
   "metadata": {},
   "outputs": [],
   "source": [
    "dfk[60] = 69"
   ]
  },
  {
   "cell_type": "code",
   "execution_count": 38,
   "id": "3338c19f",
   "metadata": {},
   "outputs": [
    {
     "data": {
      "text/plain": [
       "{1: 'Mango', 2: 'Lettuce', 3: 'Almond', 4: 'Kiwi', 5: 'Raisen'}"
      ]
     },
     "execution_count": 38,
     "metadata": {},
     "output_type": "execute_result"
    }
   ],
   "source": [
    "d = {1:'Mango',2:'Lettuce',3:'Almond',4:'Kiwi',5:'Raisen'}\n",
    "d"
   ]
  },
  {
   "cell_type": "code",
   "execution_count": 40,
   "id": "6754b752",
   "metadata": {},
   "outputs": [
    {
     "data": {
      "text/plain": [
       "{1: 'Mango', 2: 'Apple', 3: 'Almond', 4: 'Kiwi', 5: 'Raisen'}"
      ]
     },
     "execution_count": 40,
     "metadata": {},
     "output_type": "execute_result"
    }
   ],
   "source": [
    "d[2] = 'Apple'\n",
    "d"
   ]
  },
  {
   "cell_type": "code",
   "execution_count": 46,
   "id": "09840c31",
   "metadata": {},
   "outputs": [
    {
     "data": {
      "text/plain": [
       "{3: 'Banana', 5: 'Strawberry'}"
      ]
     },
     "execution_count": 46,
     "metadata": {},
     "output_type": "execute_result"
    }
   ],
   "source": [
    "d1 = {3:'Banana',5:'Strawberry'}\n",
    "d1"
   ]
  },
  {
   "cell_type": "code",
   "execution_count": 48,
   "id": "17ab3f39",
   "metadata": {},
   "outputs": [
    {
     "data": {
      "text/plain": [
       "{1: 'Mango', 2: 'Apple', 3: 'Banana', 4: 'Kiwi', 5: 'Strawberry'}"
      ]
     },
     "execution_count": 48,
     "metadata": {},
     "output_type": "execute_result"
    }
   ],
   "source": [
    "d.update(d1)\n",
    "d"
   ]
  },
  {
   "cell_type": "markdown",
   "id": "a0b8a393",
   "metadata": {},
   "source": [
    "# Copy Operation"
   ]
  },
  {
   "cell_type": "code",
   "execution_count": 50,
   "id": "ade3b5ba",
   "metadata": {},
   "outputs": [],
   "source": [
    "copy1 = {1:'One',2:'Two',3:'Three',4:'Four'}\n",
    "copy2 = copy1"
   ]
  },
  {
   "cell_type": "code",
   "execution_count": 51,
   "id": "ff733184",
   "metadata": {},
   "outputs": [
    {
     "data": {
      "text/plain": [
       "{1: 'One', 2: 'Two', 3: 'Three', 4: 'Four'}"
      ]
     },
     "execution_count": 51,
     "metadata": {},
     "output_type": "execute_result"
    }
   ],
   "source": [
    "copy2"
   ]
  },
  {
   "cell_type": "code",
   "execution_count": 54,
   "id": "9eb04471",
   "metadata": {},
   "outputs": [],
   "source": [
    "copy1[1] = 'Eins'"
   ]
  },
  {
   "cell_type": "code",
   "execution_count": 55,
   "id": "6962548c",
   "metadata": {},
   "outputs": [
    {
     "data": {
      "text/plain": [
       "{1: 'Eins', 2: 'Two', 3: 'Three', 4: 'Four'}"
      ]
     },
     "execution_count": 55,
     "metadata": {},
     "output_type": "execute_result"
    }
   ],
   "source": [
    "copy1"
   ]
  },
  {
   "cell_type": "code",
   "execution_count": 56,
   "id": "0f65de1f",
   "metadata": {},
   "outputs": [
    {
     "data": {
      "text/plain": [
       "{1: 'Eins', 2: 'Two', 3: 'Three', 4: 'Four'}"
      ]
     },
     "execution_count": 56,
     "metadata": {},
     "output_type": "execute_result"
    }
   ],
   "source": [
    "copy2"
   ]
  },
  {
   "cell_type": "code",
   "execution_count": null,
   "id": "3f6582a5",
   "metadata": {},
   "outputs": [],
   "source": []
  },
  {
   "cell_type": "code",
   "execution_count": null,
   "id": "1f2ace54",
   "metadata": {},
   "outputs": [],
   "source": []
  },
  {
   "cell_type": "code",
   "execution_count": null,
   "id": "7669911f",
   "metadata": {},
   "outputs": [],
   "source": []
  },
  {
   "cell_type": "code",
   "execution_count": null,
   "id": "fc3a4507",
   "metadata": {},
   "outputs": [],
   "source": []
  },
  {
   "cell_type": "code",
   "execution_count": null,
   "id": "e2249f1c",
   "metadata": {},
   "outputs": [],
   "source": []
  }
 ],
 "metadata": {
  "kernelspec": {
   "display_name": "Python 3 (ipykernel)",
   "language": "python",
   "name": "python3"
  },
  "language_info": {
   "codemirror_mode": {
    "name": "ipython",
    "version": 3
   },
   "file_extension": ".py",
   "mimetype": "text/x-python",
   "name": "python",
   "nbconvert_exporter": "python",
   "pygments_lexer": "ipython3",
   "version": "3.9.7"
  }
 },
 "nbformat": 4,
 "nbformat_minor": 5
}
